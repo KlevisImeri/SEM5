{
  "nbformat": 4,
  "nbformat_minor": 0,
  "metadata": {
    "colab": {
      "provenance": []
    },
    "kernelspec": {
      "name": "python3",
      "display_name": "Python 3"
    },
    "language_info": {
      "name": "python"
    }
  },
  "cells": [
    {
      "cell_type": "markdown",
      "source": [
        "![flexsys_logo.png](data:image/png;base64,iVBORw0KGgoAAAANSUhEUgAAAFoAAABFCAYAAADKKPFMAAAABHNCSVQICAgIfAhkiAAAAAlwSFlzAAAGOAAABjgBco5mFwAAABl0RVh0U29mdHdhcmUAd3d3Lmlua3NjYXBlLm9yZ5vuPBoAAAUySURBVHic7ZxNiBxFGIbfr2dMgpOkN+q6xhBD1MN2dA2J6MGLXgRPXtRcRcL6gyBGFA9hd34i6EEQBUFQEAQPUdCIgkJWDx4EUdlFyQwxEhHMZvPLzmZ3NrLpej2soJmuqrF7Zmp7l3qO885X9fXbM1Vf/1QJPFdRC3ftI3hYpwkwMd5sPJil3aC7tNYeBMWsgVnb9UY7whvtCG+0I7zRjihmDaxt3vUZhdtShAwAYpxoAEAKeHj8Yv1Y1pzyTGajKWoEkJ0po6yqirE+az55xw8djvBGO8Ib7QhvtCNyZXQRKlf59JLMVQfsJcQJAJcBKbULArWDkIIuKA4Kg13kk4CAVAFtSVkBVC/76kQ3Rttq4mfLzcZRnVANo9MAbtI2SMx0kU+CWhj9IMDdWk1k7/hsfbKX/dlYs3/VvOGNdoQ32hHeaEd4ox3RTdXRc0h8WA2jVqoYYLLSbIxqRZG3hdiqkwpLwXSGFO+qhtFHOmFT89LjL+DPRVNgrowGGKWNEGDBpJVn6+93l0+CIQCP6YSlG0r7cd4cuBaGjjtXOoH/w6o3WgDtVWbeWPVGrxa80Y7I2WTYW2pbhkegsE6nqVKpUZn+KVWF0w25MpqQZwD+ppEeEOCgPgYnje0p+RzADq3YurwHwFTKFH8G5BWdsHh+6yJw3BiYK6MDwffjs43EHbVqGF1vCbvUx5TaOVNu1j/WS3VroB+jHeGNdoQ32hHeaEd4ox3hjXaEN9oR3mhHeKMd4Y12hDfaEd5oR3ijHeGNdoQ32hHeaEd4ox3hjXbESjzKMr7AriCGVQTqFtNvQoCd1TB6TacR2GLqTMjnqmF0NhFDRmJadypIs4D1KpwbXW42tG/7W2GwzXR6CGwH8LJOsy7TBZ/QxtgW9xJD1iYtODf69VvvmyisX3dj++dq6cpS69y5R8eax393nZMLnBtdGhq8/envjiReAfji+crZyQ8Ob3SdTxrYxRN3PxmmIAB+7SI2H0iHnQ9WO7kxGgIoy35Gq51cvalkIpBr3iT/+lGnSSAtEn+4yEMoc1lji7VwWLvgEQBUXFiszB+zv+vkglhtYCHQ17DEhfFm4xOddOi64VEV6xZ0igqIN8bmGifalUoY7RXwSW1fBZnC8qrgBLWBO3aT6iHDEagiIV/DcKEgBV4EcJshuKeICAIWtUMHg3g3IIMEv9LIYwDe08WpGKOA3KORWkrwKTSmFYUjMeUpbR6KUwDe0WqM74VIicS37ZoArxZFsEDyZl0wgMSV00ohgnp5tjHR/nktjF5K3xji7DvYWaD8UmnWtTm6nwzJ1IdI6a0tthlXKdNtgE5tmuMISH6qjr5gO3h9hWPfrTF7VVSkgu0UmxXKEQbQb/twBadTZyICZemP7F3pZ9sW00anIDF8RQBm3yUs4FugYSOTzZtmMJ+1ZTcIO/qWgJ29NpLZaKEcJYrfJD4HRzC/eAjAl+kaNB+EQMi+zF6964sdxhWr0bZAAU6Wm/VEGVQdiA5k8UREGFhyNf0tO2DIRMzSskr9r7fDjVdL/j2fDKWLrX9dQhSynLjMQ0dfqg7rHszm6q4v+zanJWtfIvaysOdGZzZFBMpSWWSsFEy5WNvKFAT7BNuXX7RtPLU+KnKIZDhx3VUdATcK5ZShYeOJIDBcC6PETmAktpN80RQ3Nz2z4d37HznDWMX8zzgyd2qmZJoMCaFADtTCaF97c5Tklm//Igsgp6X9ypK41nRLVqAIyCyA1vJXsQTwn63b5IKpJwKE4GAtjPZrtD1/Ay3aiOaEeIwPAAAAAElFTkSuQmCC) Department of Artificial Intelligence and Systems Engineering, ©2024, BME-MIT, Mihaly Vetro, Dr. Gabor Hullam  \n",
        "# **VIMIAC16 - Artificial Intelligence**\n",
        "## 2024 Fall Semester\n",
        "## **LAB 7**"
      ],
      "metadata": {
        "id": "8iKVb83HKRvG"
      }
    },
    {
      "cell_type": "markdown",
      "source": [
        "# **Ensemble learning**"
      ],
      "metadata": {
        "id": "Gy0skNGnD4UU"
      }
    },
    {
      "cell_type": "code",
      "execution_count": 1,
      "metadata": {
        "id": "rfpIun-GBD-J"
      },
      "outputs": [],
      "source": [
        "import numpy as np\n",
        "import pandas as pd\n",
        "import matplotlib.pyplot as plt\n",
        "import seaborn as sns"
      ]
    },
    {
      "cell_type": "markdown",
      "source": [
        "## **1. Motivation**\n",
        "\n",
        "When solving a supervised learning task using machine learning models, we usually utilize only *one predictive model*, which - depending on the nature of the problem (e.g. what do we want to predict) and practical aspects (e.g. how much data we have and how noisy it is) - can be a decision tree, logistic regression model, neural network, etc...\n",
        "\n",
        "The question may arise, however, whether it is possible to improve the accuracy and reliability of the forecast by using the ensemble (e.g. average or other aggregated version) of the predictions of *multiple different models* instead of a single model. The process of building several different models to solve the same (or very similar) problem and then aggregating the predictions of these models to produce the final output is called **ensemble learning**.\n",
        "\n",
        "The drawbacks of ensemble learning are easy to see, mainly because instead of a single model, we have to create a set of models, which requires more resources. In other aspects, however, the aggregate predictive performance of the set of models resulting from ensemble learning usually outperforms both the individual performance and the generalisation ability of the models that make it up.\n",
        "\n",
        "> The latter fact is easy to see through a real-life example: as several empirical results have shown, some people's estimation ability is usually inaccurate due to individual bias. This becomes obvious if, for example, we ask someone to estimate by sight how many marbles are in a transparent jar, where most of the estimates will be significantly different from the actual number. However, if a sufficiently large number of people's estimates are averaged out, the result will be very close to the real number. The main reason for this is that the error of each estimate is (presumably) independent of the others, and this kind of error can be reduced by aggregating the results of several experiments.\n"
      ],
      "metadata": {
        "id": "vN6xPLAHD8yA"
      }
    },
    {
      "cell_type": "markdown",
      "source": [
        "## **2. Bagging and random forests**\n",
        "\n",
        "One of the most fundamental ways to achieve ensemble learning is **Bagging**, which, in a slightly simplified way, consists of the following steps:\n",
        "\n",
        "1. Consider a dataset consisting of $N$ records and $K$ variables.\n",
        "2. Select a real subset of variables $k \\in K$ (these are the columns of the data matrix of size $K*N$), and then perform **Bootstrapping** i.e. sample with replacement a set of records of size $N$ over the selected variables.\n",
        "3. Fit a model to the resulting dataset.\n",
        "4. Repeat steps **2** and **3** until a predefined number of models is obtained.\n",
        "5. (**Aggregation**) The prediction of the resulting model set on the new sample is determined by majority voting in case of classification and by averaging in case of regression.\n",
        "\n",
        "> Note that the dataset sampled in step **2** (**Bootstrapping**) contains only a subset of the variables and samples, and a sample may be included more than once due to replacement sampling. This step is particularly important to ensure that even for models with a deterministic (e.g. decision tree) or a low-variance (e.g. logistic regression) learning process, the procedure creates a heterogeneous model set, as each model learns on different subsets of the original dataset.\n",
        "\n",
        ">Note: the original bagging algorithm always performed bootstrap sampling on the entire variable set. For random forests, however, it is preferable to have the set of variables also randomly sampled, as then the individual models are less correlated with each other. The general name for this technique is *Feature Bagging*, for random forests it is part of Bagging.\n",
        "\n",
        "The schematic flowchart of the procedure in a simplified case creating 3 models is as follows:\n",
        "\n",
        "<!-- ![bagging_algorithm](https://share.mit.bme.hu/index.php/s/RenmdjWN8LtXNfA/download/bagging_algorithm.png) -->\n",
        "\n",
        "<img src=\"https://share.mit.bme.hu/index.php/s/RenmdjWN8LtXNfA/download/bagging_algorithm.png\" alt=\"drawing\" width=\"900\"/>\n",
        "\n",
        "A possible implementation of the Bagging algorithm used for classification is shown below.\n",
        "\n",
        "**Examine the code, then run the code block to define the class!**\n"
      ],
      "metadata": {
        "id": "swI0MARWXrGc"
      }
    },
    {
      "cell_type": "code",
      "source": [
        "from sklearn.base import BaseEstimator, clone\n",
        "from sklearn.utils import resample\n",
        "from sklearn.tree import DecisionTreeClassifier\n",
        "from scipy.stats import mode\n",
        "\n",
        "class BaggingClassifier:\n",
        "    \"\"\"\n",
        "    An implementation of the Bagging algorithm for classification tasks\n",
        "    for an arbitrary base estimator.\n",
        "\n",
        "    Parameters\n",
        "    ----------\n",
        "    base_estimator : object\n",
        "        A base estimator object implementing the `fit` and `predict` methods.\n",
        "        If None, then the base estimator is a decision tree.\n",
        "        Default: DecisionTreeClassifier()\n",
        "\n",
        "    n_estimators : int\n",
        "        The number of base estimators in the ensemble.\n",
        "        Default: 100\n",
        "\n",
        "    max_features : int or Nonep\n",
        "        The number of features to consider when looking for the best split.\n",
        "        If None, all features are considered.\n",
        "        Default: None\n",
        "\n",
        "    random_state : int or None\n",
        "        The seed for the random number generator.\n",
        "        If None, the random number generator is not seeded.\n",
        "        Default: None\n",
        "    \"\"\"\n",
        "    def __init__(self, base_estimator=DecisionTreeClassifier(), n_estimators=100, max_features=None, random_state=None):\n",
        "        self.base_estimator = base_estimator\n",
        "        self.n_estimators = n_estimators\n",
        "        self.max_features = max_features\n",
        "        self.random_state = random_state\n",
        "        self.estimators_ = []\n",
        "        self.features_ = []\n",
        "\n",
        "    @staticmethod\n",
        "    def bootstrap_samples_(X, y, max_features=None, random_state=None):\n",
        "        \"\"\"\n",
        "        Bootstrap samples from the input data.\n",
        "        Samples are drawn with replacement.\n",
        "        If max_features is specified, only a random subset of features is considered.\n",
        "\n",
        "        Parameters\n",
        "        ----------\n",
        "        X : array-like, shape (n_samples, n_features)\n",
        "            The input data.\n",
        "\n",
        "        y : array-like, shape (n_samples,)\n",
        "            The target values.\n",
        "\n",
        "        max_features : int or None\n",
        "            The number of features to consider when looking for the best split.\n",
        "            If None, all features are considered.\n",
        "            Default: None\n",
        "\n",
        "        random_state : int or None\n",
        "            The seed for the random number generator.\n",
        "            If None, the random number generator is not seeded.\n",
        "            Default: None\n",
        "        \"\"\"\n",
        "        # Sample the dataset with replacement sampling\n",
        "        X_sampled, y_sampled = resample(X, y, replace=True, random_state=random_state)\n",
        "        # Subsample the features if the max number of features is specified\n",
        "        if max_features is not None and max_features < X.shape[1]:\n",
        "            if random_state is not None:\n",
        "                np.random.seed(random_state)\n",
        "            features = np.random.choice(X.shape[1], size=max_features, replace=False)\n",
        "            X_sampled = X_sampled[:, features]\n",
        "            # Return the feature indices along the subsampled data\n",
        "            return X_sampled, y_sampled, features\n",
        "        return X_sampled, y_sampled\n",
        "\n",
        "    def fit(self, X, y):\n",
        "        \"\"\"\n",
        "        Fit the model to the input data.\n",
        "\n",
        "        Parameters\n",
        "        ----------\n",
        "        X : array-like, shape (n_samples, n_features)\n",
        "            The input data.\n",
        "\n",
        "        y : array-like, shape (n_samples,)\n",
        "            The target values.\n",
        "        \"\"\"\n",
        "        self.estimators_, self.features_ = [], []\n",
        "\n",
        "        # Produce the specified number of estimators\n",
        "        for i in range(self.n_estimators):\n",
        "            # Initialize a local version of the random state, if specified.\n",
        "            # Otherwise the bootstrapped samples would be the same for every model when the random state is specified.\n",
        "            if self.random_state is not None:\n",
        "                local_random_state = self.random_state * (i + 1) * self.n_estimators\n",
        "            else:\n",
        "                local_random_state = None\n",
        "\n",
        "            if self.max_features is not None and self.max_features < X.shape[1]:\n",
        "                # Sample the dataset with replacement and the specified number of features\n",
        "                X_sampled, y_sampled, features = self.bootstrap_samples_(X, y, max_features=self.max_features,\n",
        "                                                                         random_state=local_random_state)\n",
        "                self.features_.append(features)\n",
        "            else:\n",
        "                # Sample the dataset with replacement if the number of features is not specified\n",
        "                X_sampled, y_sampled = self.bootstrap_samples_(X, y, random_state=local_random_state)\n",
        "\n",
        "            # Train a copy of the base estimator on the sampled data\n",
        "            estimator = clone(self.base_estimator).fit(X_sampled, y_sampled)\n",
        "            self.estimators_.append(estimator)\n",
        "\n",
        "        return self\n",
        "\n",
        "    def predict(self, X):\n",
        "        \"\"\"\n",
        "        Predict the class labels for the input data.\n",
        "\n",
        "        Parameters\n",
        "        ----------\n",
        "        X : array-like, shape (n_samples, n_features)\n",
        "            The input data.\n",
        "        \"\"\"\n",
        "        if self.max_features is not None and self.max_features < X.shape[1]:\n",
        "            # Predict on the feature subset used for each estimator\n",
        "            predictions = np.array([estimator.predict(X[:, features]) for estimator, features in zip(self.estimators_, self.features_)])\n",
        "        else:\n",
        "            # Predict on the entire feature set for each estimator\n",
        "            predictions = np.array([estimator.predict(X) for estimator in self.estimators_])\n",
        "        # Return the average predicted value for every input sample\n",
        "        return mode(predictions, axis=0)[0]"
      ],
      "metadata": {
        "id": "A8A9722-XAGj"
      },
      "execution_count": 2,
      "outputs": []
    },
    {
      "cell_type": "markdown",
      "source": [
        "Note that in the above class, the bootstrapping step is handled by a separate static function (`bootstrap_samples_`), and the aggregation is performed by the `predict` function by returning the mode of each model's prediction (`mode` function), which is equivalent to a majority vote.\n",
        "\n",
        "To test the method, we then create an artificially generated dataset and split it into a training and test set using the code block below:"
      ],
      "metadata": {
        "id": "Eh6fnVJ51xh_"
      }
    },
    {
      "cell_type": "code",
      "source": [
        "from sklearn.datasets import make_classification\n",
        "from sklearn.model_selection import train_test_split\n",
        "\n",
        "# Create a dummy classification problem\n",
        "X, y = make_classification(n_samples=1000, n_features=20,\n",
        "                           n_informative=16, n_redundant=0,\n",
        "                           flip_y=0.01, n_clusters_per_class=2,\n",
        "                           hypercube=True, class_sep=1.,\n",
        "                           random_state=42)\n",
        "\n",
        "# Split the dataset into train and test sets\n",
        "X_train, X_test, y_train, y_test = train_test_split(X, y, test_size=0.2, random_state=42)"
      ],
      "metadata": {
        "id": "kgF_BNbLStOI"
      },
      "execution_count": 3,
      "outputs": []
    },
    {
      "cell_type": "markdown",
      "source": [
        "The resulting dataset consists of randomly generated samples that form a given number of normally distributed clusters in the n-dimensional space for each class. For more information, see the documentation of the [`make_classification`](https://scikit-learn.org/stable/modules/generated/sklearn.datasets.make_classification.html) function of the `sklearn` package.\n",
        "\n",
        "With the above settings, a dataset consisting of a total of 1000 samples and 20 continuous variables is produced, which is divided into a training subset of 800 samples and a test subset of 200 samples. Their shape can be checked as follows:"
      ],
      "metadata": {
        "id": "7bMQKQfe4hMj"
      }
    },
    {
      "cell_type": "code",
      "source": [
        "X_train.shape, X_test.shape, y_train.shape, y_test.shape"
      ],
      "metadata": {
        "id": "g0qkl38ghnCN",
        "outputId": "27276694-2a9b-400e-e08b-072ca8970295",
        "colab": {
          "base_uri": "https://localhost:8080/"
        }
      },
      "execution_count": 4,
      "outputs": [
        {
          "output_type": "execute_result",
          "data": {
            "text/plain": [
              "((800, 20), (200, 20), (800,), (200,))"
            ]
          },
          "metadata": {},
          "execution_count": 4
        }
      ]
    },
    {
      "cell_type": "markdown",
      "source": [
        "Next, define the following function, which performs the training of a predefined predictor on the generated dataset and then returns the accuracy of the trained model on the test set:"
      ],
      "metadata": {
        "id": "cHvM8emt8_3_"
      }
    },
    {
      "cell_type": "code",
      "source": [
        "from sklearn.metrics import accuracy_score\n",
        "\n",
        "def evaluate_classifier(classifier, runs=10):\n",
        "    accuracies_local = []\n",
        "    for _ in range(runs):\n",
        "        classifier.fit(X_train, y_train)\n",
        "        y_pred = classifier.predict(X_test)\n",
        "        accuracy = accuracy_score(y_test, y_pred)\n",
        "        accuracies_local.append(accuracy)\n",
        "    return np.mean(accuracies_local)"
      ],
      "metadata": {
        "id": "Hg-4gpUd7xoB"
      },
      "execution_count": 6,
      "outputs": []
    },
    {
      "cell_type": "markdown",
      "source": [
        "Since the learning process is non-deterministic (due to bootstrapping), the evaluation function above repeats the process several times and returns the average of the accuracies, so the resulting uncertainty of the accuracy value is lower.\n",
        "\n",
        "Finally, we initialize the bagging classifier as below and observe how it performs in terms of accuracy on the artificial dataset:"
      ],
      "metadata": {
        "id": "x4m3gZNt9kif"
      }
    },
    {
      "cell_type": "code",
      "source": [
        "from sklearn.tree import DecisionTreeClassifier\n",
        "\n",
        "# Create a BaggingClassifier with Decision Trees as base estimators\n",
        "bagging_model = BaggingClassifier(base_estimator=DecisionTreeClassifier(max_depth=3),\n",
        "                                  n_estimators=20,\n",
        "                                  max_features=int(np.sqrt(X.shape[1])))\n",
        "\n",
        "accuracy = evaluate_classifier(bagging_model, runs=10)\n",
        "print(f\"Bagging Classifier Accuracy (Decision Tree): {accuracy:.3f}\")"
      ],
      "metadata": {
        "id": "l5xcnI9CSHSV",
        "outputId": "8bc06e9a-ea79-4a3c-d87e-bf16e057b736",
        "colab": {
          "base_uri": "https://localhost:8080/"
        }
      },
      "execution_count": 7,
      "outputs": [
        {
          "output_type": "stream",
          "name": "stdout",
          "text": [
            "Bagging Classifier Accuracy (Decision Tree): 0.775\n"
          ]
        }
      ]
    },
    {
      "cell_type": "markdown",
      "source": [
        "In the above example, a decision tree with a limited maximum depth (`base_estimator=DecisionTreeClassifier(max_depth=3)`) was given as the base model, from which 20 instances (`n_estimators=20`) were created to form a model ensemble. In addition, we specified that the bootstrapped samples for each model should contain a number of variables equal to the square root of the size of the total variable set (rounded to integer: `max_features=int(np.sqrt(X.shape[1]))`). The choice of the base model here is not accidental, as the widely known [Random Forest](https://scikit-learn.org/stable/modules/generated/sklearn.ensemble.RandomForestClassifier.html) algorithm is also based on the bagging method with a decision tree base model. However, it is important that the parameters of the bagging algorithm (including the base model) can be chosen arbitrarily.\n",
        "\n",
        "**In the code block below, define and evaluate a bagging classifier similar to the one above, with different parameters!**\n",
        "\n",
        "1. **Note the effect of the depth of the decision tree and the number of models on accuracy!**\n",
        "2. **Try a different classifier as a base model!**\n",
        "\n",
        "> Tip: for the base model, you should choose one of the following classifiers defined in the `sklearn` package:\n",
        "1. [Support-Vector Machine](https://scikit-learn.org/stable/modules/generated/sklearn.svm.SVC.html) (RBF kernel is recommended)\n",
        "2. [Naive Bayes](https://scikit-learn.org/dev//modules/generated/sklearn.naive_bayes.GaussianNB.html#sklearn.naive_bayes.GaussianNB)\n",
        "3. [K-Nearest Neighbors](https://scikit-learn.org/stable/modules/generated/sklearn.neighbors.KNeighborsClassifier.html)\n",
        "4. [Gaussian Process](https://scikit-learn.org/stable/modules/generated/sklearn.gaussian_process.GaussianProcessClassifier.html#sklearn.gaussian_process.GaussianProcessClassifier)"
      ],
      "metadata": {
        "id": "OWUWRlyX--iw"
      }
    },
    {
      "cell_type": "code",
      "source": [
        "################################################################################\n",
        "# TODO: create and evaluate a BaggingClassifier with different parameters!\n",
        "# bagging_model = ...\n",
        "################################################################################\n",
        "from sklearn.neighbors import KNeighborsClassifier\n",
        "p\n",
        "bagging_model = BaggingClassifier(base_estimator=KNeighborsClassifier(n_neighbors=8),\n",
        "                                   n_estimators=50,\n",
        "                                   max_features=int(np.sqrt(X.shape[1])))\n",
        "\n",
        "accuracy = evaluate_classifier(bagging_model, runs=10)\n",
        "print(f\"Bagging Classifier Accuracy (Decision Tree): {accuracy:.3f}\")"
      ],
      "metadata": {
        "id": "RJYDVFhWSSNW",
        "outputId": "235745b2-33b9-4fa5-d893-c1d83555b2b0",
        "colab": {
          "base_uri": "https://localhost:8080/"
        }
      },
      "execution_count": 13,
      "outputs": [
        {
          "output_type": "stream",
          "name": "stdout",
          "text": [
            "Bagging Classifier Accuracy (Decision Tree): 0.810\n"
          ]
        }
      ]
    },
    {
      "cell_type": "code",
      "source": [
        "################################################################################\n",
        "# TODO: create and evaluate a BaggingClassifier with a different baseline model!\n",
        "# bagging_model = ...\n",
        "################################################################################\n",
        "\n",
        "accuracy = evaluate_classifier(bagging_model, runs=10)\n",
        "print(f\"Bagging Classifier Accuracy (other baseline): {accuracy:.3f}\")"
      ],
      "metadata": {
        "id": "kR5_wmVjHsRh"
      },
      "execution_count": null,
      "outputs": []
    },
    {
      "cell_type": "markdown",
      "source": [
        "## **3. Boosting**\n",
        "\n",
        "One of the noticeable characteristics of the Bagging algorithm is that each model was trained in a completely independent way based on a randomly selected sample. The advantage of this approach is of course that the creation of each model can be done in parallel, but a major disadvantage is that a relatively large number of models are required to achieve an aggregate prediction accuracy significantly better than that of the individual models.\n",
        "\n",
        "The latter problem is addressed by the **Boosting** family of algorithms. These methods sequentially add new models to the ensemble of models in such a way that each added model \"learns\" in some way from the weaknesses of the existing models.\n",
        "\n",
        "One of the earliest Boosting algorithms is Adaptive Boosting (**AdaBoost** for short), which means that for each model to be trained, more weight is given to the training examples for which the previous models gave incorrect predictions, so that the newly created model will perform better on those examples.\n",
        "\n",
        "The AdaBoost method consists of the following steps:\n",
        "1. As a starting step, define a uniform weight value for each record in the dataset.\n",
        "2. Train a model with the current weights.\n",
        "3. Increase the weights of the samples for which the most recent model gave an incorrect prediction, and then normalize the adjusted weight vector.\n",
        "4. Repeat step 2 until a pre-specified number of models is obtained.\n",
        "5. The prediction of the ensemble of models on new samples is obtained as the weighted aggregate of the output of each model. In the aggregation process, the weight of each model's output increases with its better predictive performance on the training set.\n",
        "\n",
        "> The AdaBoost algorithm (and Boosting methods in general) iteratively corrects errors in the existing model ensemble at each step, speeding up the convergence of the procedure. For this reason, typically fewer models are needed to achieve similarly good predictive performance when using this family of methods compared to the Bagging algorithm.\n",
        "\n",
        "The schematic flowchart of the AdaBoost algorithm for 3 models is as follows:\n",
        "<!-- ![adaboost_algorithm_simplified](https://share.mit.bme.hu/index.php/s/bW9FgHTr3xJpQdm/download/boosting_algorithm_simplified.png) -->\n",
        "\n",
        "<img src=\"https://share.mit.bme.hu/index.php/s/bW9FgHTr3xJpQdm/download/boosting_algorithm_simplified.png\" alt=\"drawing\" width=\"700\"/>\n",
        "\n",
        "As can be seen in the figure above, the learning of each model depends on the error of the previous model, so the learning of each model cannot be performed in parallel, only sequentially.\n",
        "\n",
        "There are several implementations of the AdaBoost algorithm, we will use the one included in the `sklearn` package. In practical terms, the instantiation and use of the AdaBoost classifier is similar to the bagging method implemented above:"
      ],
      "metadata": {
        "id": "4iVJ9QCIRw96"
      }
    },
    {
      "cell_type": "code",
      "source": [
        "from sklearn.ensemble import AdaBoostClassifier\n",
        "from sklearn.tree import DecisionTreeClassifier\n",
        "\n",
        "boosted_model_dt = AdaBoostClassifier(estimator=DecisionTreeClassifier(max_depth=3),\n",
        "                                      n_estimators=20,\n",
        "                                      algorithm=\"SAMME\")\n",
        "\n",
        "accuracy = evaluate_classifier(boosted_model_dt, runs=10)\n",
        "print(f\"Boosted Classifier Accuracy (Decision Tree): {accuracy:.3f}\")"
      ],
      "metadata": {
        "id": "Pqdk1oDEpyqL",
        "outputId": "47257c63-bcd4-463d-a711-94a20291c6b8",
        "colab": {
          "base_uri": "https://localhost:8080/"
        }
      },
      "execution_count": 16,
      "outputs": [
        {
          "output_type": "stream",
          "name": "stdout",
          "text": [
            "Boosted Classifier Accuracy (Decision Tree): 0.839\n"
          ]
        }
      ]
    },
    {
      "cell_type": "markdown",
      "source": [
        "It is also worth comparing how AdaBoost performs against the Bagging algorithm for model ensembles of different sizes. To do this, run the training and evaluation for different model sizes and plot the results using the code block below:"
      ],
      "metadata": {
        "id": "-uieM-b91JIy"
      }
    },
    {
      "cell_type": "code",
      "source": [
        "from sklearn.ensemble import AdaBoostClassifier\n",
        "from sklearn.tree import DecisionTreeClassifier\n",
        "\n",
        "accuracy_values_bagging = []\n",
        "accuracy_values_boosting = []\n",
        "\n",
        "for n_estimators in range(1, 30, 1):\n",
        "    bagging_model_dt = BaggingClassifier(base_estimator=DecisionTreeClassifier(max_depth=3),\n",
        "                                         n_estimators=n_estimators,\n",
        "                                         max_features=int(np.sqrt(X.shape[1])))\n",
        "    accuracy_values_bagging.append(evaluate_classifier(bagging_model_dt, runs=10))\n",
        "\n",
        "    boosted_model_dt = AdaBoostClassifier(estimator=DecisionTreeClassifier(max_depth=3),\n",
        "                                          n_estimators=n_estimators,\n",
        "                                          algorithm=\"SAMME\")\n",
        "    accuracy_values_boosting.append(evaluate_classifier(boosted_model_dt, runs=10))\n",
        "\n",
        "plt.plot(range(1, 30, 1), accuracy_values_bagging, label=\"Bagging Classifier (Decision Tree)\")\n",
        "plt.plot(range(1, 30, 1), accuracy_values_boosting, label=\"Boosted Classifier (Decision Tree)\")\n",
        "plt.xlabel(\"Number of Estimators\")\n",
        "plt.ylabel(\"Accuracy\")\n",
        "plt.ylim((0.5, 1.))\n",
        "plt.legend()\n",
        "plt.show();"
      ],
      "metadata": {
        "id": "VfyXO3zisYr9",
        "outputId": "6586cf17-df48-4a86-f492-249b149b0190",
        "colab": {
          "base_uri": "https://localhost:8080/",
          "height": 475
        }
      },
      "execution_count": 17,
      "outputs": [
        {
          "output_type": "display_data",
          "data": {
            "text/plain": [
              "<Figure size 640x480 with 1 Axes>"
            ],
            "image/png": "[encoded data removed]"
          },
          "metadata": {}
        }
      ]
    },
    {
      "cell_type": "markdown",
      "source": [
        "***\n",
        "**Which method do you think performed better with the same base model and ensemble size?**\n",
        "\n",
        "Boosting\n",
        "\n",
        "***\n",
        "\n",
        "**Based on the results, to what extent does the predictive performance of the two methods increase with the number of models? Do you see any difference between the methods in this regard?**\n",
        "\n",
        "In a wary similar way nearly linear after a while\n",
        "\n",
        "***"
      ],
      "metadata": {
        "id": "AHNZAfP91oWf"
      }
    },
    {
      "cell_type": "markdown",
      "source": [
        "Finally, it is worth mentioning that there are several boosting algorithms that are more modern than AdaBoost, of which gradient-based methods are perhaps the best known. Examples include the [`GradientBoostingClassifier`](https://scikit-learn.org/stable/modules/generated/sklearn.ensemble.GradientBoostingClassifier.html) implemented in `sklearn` and the [Extreme Gradient Boosting](https://xgboost.readthedocs.io/en/stable/), which is available as a separate package."
      ],
      "metadata": {
        "id": "DDkUX0Fs2bw5"
      }
    },
    {
      "cell_type": "markdown",
      "source": [
        "## **4. Stacking**\n",
        "\n",
        "So far, we have assumed that all members of the model ensemble are from the same model family (e.g. decision tree, SVM, etc...). However, this is not necessarily the case, since a model ensemble can consist of any type of classifiers (or regressors) as long as they offer a solution to the same classification (or regression) problem. The general case where a model ensemble is composed of estimators from different model families is called **Stacking**.\n",
        "\n",
        "The implementation is simpler than before: using `sklearn`, we initialize some individual classifiers, and then a model ensemble ([`VotingClassifier`](https://scikit-learn.org/stable/modules/generated/sklearn.ensemble.VotingClassifier.html)) from them. The resulting estimator is trained and evaluated as a single model.\n",
        "\n",
        "This can be done by running the following code block on the previously generated artificial dataset:"
      ],
      "metadata": {
        "id": "YFq0XowKSI2n"
      }
    },
    {
      "cell_type": "code",
      "source": [
        "from sklearn.ensemble import VotingClassifier\n",
        "from sklearn.tree import DecisionTreeClassifier\n",
        "from sklearn.svm import SVC\n",
        "from sklearn.naive_bayes import GaussianNB\n",
        "from sklearn.neighbors import KNeighborsClassifier\n",
        "from sklearn.gaussian_process import GaussianProcessClassifier\n",
        "\n",
        "# Create a VotingClassifier with multiple base estimators\n",
        "stacking_model = VotingClassifier(estimators=[\n",
        "    ('decision_tree', DecisionTreeClassifier(max_depth=3)),\n",
        "    ('svm', SVC(kernel='rbf')),\n",
        "    ('naive_bayes', GaussianNB()),\n",
        "    ('knn', KNeighborsClassifier(n_neighbors=5)),\n",
        "    ('gaussian_process', GaussianProcessClassifier())\n",
        "], voting='hard')\n",
        "\n",
        "accuracy = evaluate_classifier(stacking_model, runs=10)\n",
        "\n",
        "print(f\"Stacking Classifier Accuracy: {accuracy:.3f}\")"
      ],
      "metadata": {
        "id": "D_MxkqgEwp1u",
        "outputId": "3900d305-6da9-4767-ffb7-73beb8f1d0b2",
        "colab": {
          "base_uri": "https://localhost:8080/"
        }
      },
      "execution_count": 18,
      "outputs": [
        {
          "output_type": "stream",
          "name": "stdout",
          "text": [
            "Stacking Classifier Accuracy: 0.955\n"
          ]
        }
      ]
    },
    {
      "cell_type": "markdown",
      "source": [
        "During the implementation, a cluster of 5 models was created, each of which solves the classification problem in a drastically different way. This is described in more detail in the documentation of the classes implementing each model:\n",
        "\n",
        "1. [Decision Tree](https://scikit-learn.org/stable/modules/generated/sklearn.tree.DecisionTreeClassifier.html)\n",
        "2. [Support-Vector Machine](https://scikit-learn.org/stable/modules/generated/sklearn.svm.SVC.html)\n",
        "3. [Naive Bayes](https://scikit-learn.org/dev//modules/generated/sklearn.naive_bayes.GaussianNB.html#sklearn.naive_bayes.GaussianNB)\n",
        "4. [K-Nearest Neighbors](https://scikit-learn.org/stable/modules/generated/sklearn.neighbors.KNeighborsClassifier.html)\n",
        "5. [Gaussian Process](https://scikit-learn.org/stable/modules/generated/sklearn.gaussian_process.GaussianProcessClassifier.html#sklearn.gaussian_process.GaussianProcessClassifier)\n",
        "\n",
        "> It is worth noting that the classifier created using the Stacking procedure, which includes 5 different models, has significantly better performance than the previous ensembles of models with instances of a single model type. This implies that when solving the classification problem defined by the artificially generated dataset, there is a significant advantage in the diversity of models, or in other words: in this case, the predictions of models representing different approaches complement each other well. A third (and perhaps most common) formulation of this phenomenon is that individual models in a model ensemble typically make errors on different inputs, so that the simple majority decision they make is more reliable than the prediction of each model. It is important to note, however, that this is not necessarily true for all classification (or indeed regression) problems, so individual testing of different approaches is still important. For example, it may be that a number of models perform particularly poorly on the dataset, so that the performance of the ensemble of models may be worse than the performance of some individual models."
      ],
      "metadata": {
        "id": "847fcmMd39I5"
      }
    },
    {
      "cell_type": "markdown",
      "source": [
        "## **5. Real dataset**\n",
        "\n",
        "In the following section, we will test the methods we have learned so far on a real dataset in a format similar to the artificially generated dataset we have used so far.\n",
        "\n",
        "To do this, we first reset the Colab environment and then load the dataset to be used:"
      ],
      "metadata": {
        "id": "rAfAzpPb4Ud9"
      }
    },
    {
      "cell_type": "code",
      "source": [
        "%reset -f\n",
        "import numpy as np\n",
        "import pandas as pd\n",
        "\n",
        "spambase_df = pd.read_csv(\"https://share.mit.bme.hu/index.php/s/wgc46gCHRb7bPdF/download/spambase.csv\")\n",
        "\n",
        "spambase_df"
      ],
      "metadata": {
        "id": "RE2zqLzZLAr2",
        "outputId": "f90a8143-20fd-43fb-d06e-678f89cf04f7",
        "colab": {
          "base_uri": "https://localhost:8080/",
          "height": 444
        }
      },
      "execution_count": 34,
      "outputs": [
        {
          "output_type": "execute_result",
          "data": {
            "text/plain": [
              "      word_freq_make  word_freq_address  word_freq_all  word_freq_3d  \\\n",
              "0               0.00               0.64           0.64           0.0   \n",
              "1               0.06               0.00           0.71           0.0   \n",
              "2               0.00               0.00           0.00           0.0   \n",
              "3               0.00               0.00           0.00           0.0   \n",
              "4               0.00               0.00           0.00           0.0   \n",
              "...              ...                ...            ...           ...   \n",
              "3676            0.00               0.00           1.19           0.0   \n",
              "3677            0.31               0.00           0.62           0.0   \n",
              "3678            0.00               0.00           0.00           0.0   \n",
              "3679            0.30               0.00           0.30           0.0   \n",
              "3680            0.00               0.00           0.65           0.0   \n",
              "\n",
              "      word_freq_our  word_freq_over  word_freq_remove  word_freq_internet  \\\n",
              "0              0.32            0.00              0.00                0.00   \n",
              "1              1.23            0.19              0.19                0.12   \n",
              "2              0.63            0.00              0.31                0.63   \n",
              "3              0.63            0.00              0.31                0.63   \n",
              "4              1.85            0.00              0.00                1.85   \n",
              "...             ...             ...               ...                 ...   \n",
              "3676           0.00            0.00              0.00                0.00   \n",
              "3677           0.00            0.31              0.00                0.00   \n",
              "3678           0.00            0.00              0.00                0.00   \n",
              "3679           0.00            0.00              0.00                0.00   \n",
              "3680           0.00            0.00              0.00                0.00   \n",
              "\n",
              "      word_freq_order  word_freq_mail  ...  char_freq_;  char_freq_(  \\\n",
              "0                0.00            0.00  ...        0.000        0.000   \n",
              "1                0.64            0.25  ...        0.010        0.143   \n",
              "2                0.31            0.63  ...        0.000        0.137   \n",
              "3                0.31            0.63  ...        0.000        0.135   \n",
              "4                0.00            0.00  ...        0.000        0.223   \n",
              "...               ...             ...  ...          ...          ...   \n",
              "3676             0.00            0.00  ...        0.000        0.000   \n",
              "3677             0.00            0.00  ...        0.000        0.232   \n",
              "3678             0.00            0.00  ...        0.000        0.000   \n",
              "3679             0.00            0.00  ...        0.102        0.718   \n",
              "3680             0.00            0.00  ...        0.000        0.000   \n",
              "\n",
              "      char_freq_[  char_freq_!  char_freq_$  char_freq_#  \\\n",
              "0             0.0        0.778        0.000         0.00   \n",
              "1             0.0        0.276        0.184         0.01   \n",
              "2             0.0        0.137        0.000         0.00   \n",
              "3             0.0        0.135        0.000         0.00   \n",
              "4             0.0        0.000        0.000         0.00   \n",
              "...           ...          ...          ...          ...   \n",
              "3676          0.0        0.000        0.000         0.00   \n",
              "3677          0.0        0.000        0.000         0.00   \n",
              "3678          0.0        0.353        0.000         0.00   \n",
              "3679          0.0        0.000        0.000         0.00   \n",
              "3680          0.0        0.125        0.000         0.00   \n",
              "\n",
              "      capital_run_length_average  capital_run_length_longest  \\\n",
              "0                          3.756                          61   \n",
              "1                          9.821                         485   \n",
              "2                          3.537                          40   \n",
              "3                          3.537                          40   \n",
              "4                          3.000                          15   \n",
              "...                          ...                         ...   \n",
              "3676                       1.000                           1   \n",
              "3677                       1.142                           3   \n",
              "3678                       1.555                           4   \n",
              "3679                       1.404                           6   \n",
              "3680                       1.250                           5   \n",
              "\n",
              "      capital_run_length_total  Class  \n",
              "0                          278      1  \n",
              "1                         2259      1  \n",
              "2                          191      1  \n",
              "3                          191      1  \n",
              "4                           54      1  \n",
              "...                        ...    ...  \n",
              "3676                        24      0  \n",
              "3677                        88      0  \n",
              "3678                        14      0  \n",
              "3679                       118      0  \n",
              "3680                        40      0  \n",
              "\n",
              "[3681 rows x 58 columns]"
            ],
            "text/html": [
              "\n",
              "  <div id=\"df-cb390d12-1541-4b19-a471-cbbc31e1ee28\" class=\"colab-df-container\">\n",
              "    <div>\n",
              "<style scoped>\n",
              "    .dataframe tbody tr th:only-of-type {\n",
              "        vertical-align: middle;\n",
              "    }\n",
              "\n",
              "    .dataframe tbody tr th {\n",
              "        vertical-align: top;\n",
              "    }\n",
              "\n",
              "    .dataframe thead th {\n",
              "        text-align: right;\n",
              "    }\n",
              "</style>\n",
              "<table border=\"1\" class=\"dataframe\">\n",
              "  <thead>\n",
              "    <tr style=\"text-align: right;\">\n",
              "      <th></th>\n",
              "      <th>word_freq_make</th>\n",
              "      <th>word_freq_address</th>\n",
              "      <th>word_freq_all</th>\n",
              "      <th>word_freq_3d</th>\n",
              "      <th>word_freq_our</th>\n",
              "      <th>word_freq_over</th>\n",
              "      <th>word_freq_remove</th>\n",
              "      <th>word_freq_internet</th>\n",
              "      <th>word_freq_order</th>\n",
              "      <th>word_freq_mail</th>\n",
              "      <th>...</th>\n",
              "      <th>char_freq_;</th>\n",
              "      <th>char_freq_(</th>\n",
              "      <th>char_freq_[</th>\n",
              "      <th>char_freq_!</th>\n",
              "      <th>char_freq_$</th>\n",
              "      <th>char_freq_#</th>\n",
              "      <th>capital_run_length_average</th>\n",
              "      <th>capital_run_length_longest</th>\n",
              "      <th>capital_run_length_total</th>\n",
              "      <th>Class</th>\n",
              "    </tr>\n",
              "  </thead>\n",
              "  <tbody>\n",
              "    <tr>\n",
              "      <th>0</th>\n",
              "      <td>0.00</td>\n",
              "      <td>0.64</td>\n",
              "      <td>0.64</td>\n",
              "      <td>0.0</td>\n",
              "      <td>0.32</td>\n",
              "      <td>0.00</td>\n",
              "      <td>0.00</td>\n",
              "      <td>0.00</td>\n",
              "      <td>0.00</td>\n",
              "      <td>0.00</td>\n",
              "      <td>...</td>\n",
              "      <td>0.000</td>\n",
              "      <td>0.000</td>\n",
              "      <td>0.0</td>\n",
              "      <td>0.778</td>\n",
              "      <td>0.000</td>\n",
              "      <td>0.00</td>\n",
              "      <td>3.756</td>\n",
              "      <td>61</td>\n",
              "      <td>278</td>\n",
              "      <td>1</td>\n",
              "    </tr>\n",
              "    <tr>\n",
              "      <th>1</th>\n",
              "      <td>0.06</td>\n",
              "      <td>0.00</td>\n",
              "      <td>0.71</td>\n",
              "      <td>0.0</td>\n",
              "      <td>1.23</td>\n",
              "      <td>0.19</td>\n",
              "      <td>0.19</td>\n",
              "      <td>0.12</td>\n",
              "      <td>0.64</td>\n",
              "      <td>0.25</td>\n",
              "      <td>...</td>\n",
              "      <td>0.010</td>\n",
              "      <td>0.143</td>\n",
              "      <td>0.0</td>\n",
              "      <td>0.276</td>\n",
              "      <td>0.184</td>\n",
              "      <td>0.01</td>\n",
              "      <td>9.821</td>\n",
              "      <td>485</td>\n",
              "      <td>2259</td>\n",
              "      <td>1</td>\n",
              "    </tr>\n",
              "    <tr>\n",
              "      <th>2</th>\n",
              "      <td>0.00</td>\n",
              "      <td>0.00</td>\n",
              "      <td>0.00</td>\n",
              "      <td>0.0</td>\n",
              "      <td>0.63</td>\n",
              "      <td>0.00</td>\n",
              "      <td>0.31</td>\n",
              "      <td>0.63</td>\n",
              "      <td>0.31</td>\n",
              "      <td>0.63</td>\n",
              "      <td>...</td>\n",
              "      <td>0.000</td>\n",
              "      <td>0.137</td>\n",
              "      <td>0.0</td>\n",
              "      <td>0.137</td>\n",
              "      <td>0.000</td>\n",
              "      <td>0.00</td>\n",
              "      <td>3.537</td>\n",
              "      <td>40</td>\n",
              "      <td>191</td>\n",
              "      <td>1</td>\n",
              "    </tr>\n",
              "    <tr>\n",
              "      <th>3</th>\n",
              "      <td>0.00</td>\n",
              "      <td>0.00</td>\n",
              "      <td>0.00</td>\n",
              "      <td>0.0</td>\n",
              "      <td>0.63</td>\n",
              "      <td>0.00</td>\n",
              "      <td>0.31</td>\n",
              "      <td>0.63</td>\n",
              "      <td>0.31</td>\n",
              "      <td>0.63</td>\n",
              "      <td>...</td>\n",
              "      <td>0.000</td>\n",
              "      <td>0.135</td>\n",
              "      <td>0.0</td>\n",
              "      <td>0.135</td>\n",
              "      <td>0.000</td>\n",
              "      <td>0.00</td>\n",
              "      <td>3.537</td>\n",
              "      <td>40</td>\n",
              "      <td>191</td>\n",
              "      <td>1</td>\n",
              "    </tr>\n",
              "    <tr>\n",
              "      <th>4</th>\n",
              "      <td>0.00</td>\n",
              "      <td>0.00</td>\n",
              "      <td>0.00</td>\n",
              "      <td>0.0</td>\n",
              "      <td>1.85</td>\n",
              "      <td>0.00</td>\n",
              "      <td>0.00</td>\n",
              "      <td>1.85</td>\n",
              "      <td>0.00</td>\n",
              "      <td>0.00</td>\n",
              "      <td>...</td>\n",
              "      <td>0.000</td>\n",
              "      <td>0.223</td>\n",
              "      <td>0.0</td>\n",
              "      <td>0.000</td>\n",
              "      <td>0.000</td>\n",
              "      <td>0.00</td>\n",
              "      <td>3.000</td>\n",
              "      <td>15</td>\n",
              "      <td>54</td>\n",
              "      <td>1</td>\n",
              "    </tr>\n",
              "    <tr>\n",
              "      <th>...</th>\n",
              "      <td>...</td>\n",
              "      <td>...</td>\n",
              "      <td>...</td>\n",
              "      <td>...</td>\n",
              "      <td>...</td>\n",
              "      <td>...</td>\n",
              "      <td>...</td>\n",
              "      <td>...</td>\n",
              "      <td>...</td>\n",
              "      <td>...</td>\n",
              "      <td>...</td>\n",
              "      <td>...</td>\n",
              "      <td>...</td>\n",
              "      <td>...</td>\n",
              "      <td>...</td>\n",
              "      <td>...</td>\n",
              "      <td>...</td>\n",
              "      <td>...</td>\n",
              "      <td>...</td>\n",
              "      <td>...</td>\n",
              "      <td>...</td>\n",
              "    </tr>\n",
              "    <tr>\n",
              "      <th>3676</th>\n",
              "      <td>0.00</td>\n",
              "      <td>0.00</td>\n",
              "      <td>1.19</td>\n",
              "      <td>0.0</td>\n",
              "      <td>0.00</td>\n",
              "      <td>0.00</td>\n",
              "      <td>0.00</td>\n",
              "      <td>0.00</td>\n",
              "      <td>0.00</td>\n",
              "      <td>0.00</td>\n",
              "      <td>...</td>\n",
              "      <td>0.000</td>\n",
              "      <td>0.000</td>\n",
              "      <td>0.0</td>\n",
              "      <td>0.000</td>\n",
              "      <td>0.000</td>\n",
              "      <td>0.00</td>\n",
              "      <td>1.000</td>\n",
              "      <td>1</td>\n",
              "      <td>24</td>\n",
              "      <td>0</td>\n",
              "    </tr>\n",
              "    <tr>\n",
              "      <th>3677</th>\n",
              "      <td>0.31</td>\n",
              "      <td>0.00</td>\n",
              "      <td>0.62</td>\n",
              "      <td>0.0</td>\n",
              "      <td>0.00</td>\n",
              "      <td>0.31</td>\n",
              "      <td>0.00</td>\n",
              "      <td>0.00</td>\n",
              "      <td>0.00</td>\n",
              "      <td>0.00</td>\n",
              "      <td>...</td>\n",
              "      <td>0.000</td>\n",
              "      <td>0.232</td>\n",
              "      <td>0.0</td>\n",
              "      <td>0.000</td>\n",
              "      <td>0.000</td>\n",
              "      <td>0.00</td>\n",
              "      <td>1.142</td>\n",
              "      <td>3</td>\n",
              "      <td>88</td>\n",
              "      <td>0</td>\n",
              "    </tr>\n",
              "    <tr>\n",
              "      <th>3678</th>\n",
              "      <td>0.00</td>\n",
              "      <td>0.00</td>\n",
              "      <td>0.00</td>\n",
              "      <td>0.0</td>\n",
              "      <td>0.00</td>\n",
              "      <td>0.00</td>\n",
              "      <td>0.00</td>\n",
              "      <td>0.00</td>\n",
              "      <td>0.00</td>\n",
              "      <td>0.00</td>\n",
              "      <td>...</td>\n",
              "      <td>0.000</td>\n",
              "      <td>0.000</td>\n",
              "      <td>0.0</td>\n",
              "      <td>0.353</td>\n",
              "      <td>0.000</td>\n",
              "      <td>0.00</td>\n",
              "      <td>1.555</td>\n",
              "      <td>4</td>\n",
              "      <td>14</td>\n",
              "      <td>0</td>\n",
              "    </tr>\n",
              "    <tr>\n",
              "      <th>3679</th>\n",
              "      <td>0.30</td>\n",
              "      <td>0.00</td>\n",
              "      <td>0.30</td>\n",
              "      <td>0.0</td>\n",
              "      <td>0.00</td>\n",
              "      <td>0.00</td>\n",
              "      <td>0.00</td>\n",
              "      <td>0.00</td>\n",
              "      <td>0.00</td>\n",
              "      <td>0.00</td>\n",
              "      <td>...</td>\n",
              "      <td>0.102</td>\n",
              "      <td>0.718</td>\n",
              "      <td>0.0</td>\n",
              "      <td>0.000</td>\n",
              "      <td>0.000</td>\n",
              "      <td>0.00</td>\n",
              "      <td>1.404</td>\n",
              "      <td>6</td>\n",
              "      <td>118</td>\n",
              "      <td>0</td>\n",
              "    </tr>\n",
              "    <tr>\n",
              "      <th>3680</th>\n",
              "      <td>0.00</td>\n",
              "      <td>0.00</td>\n",
              "      <td>0.65</td>\n",
              "      <td>0.0</td>\n",
              "      <td>0.00</td>\n",
              "      <td>0.00</td>\n",
              "      <td>0.00</td>\n",
              "      <td>0.00</td>\n",
              "      <td>0.00</td>\n",
              "      <td>0.00</td>\n",
              "      <td>...</td>\n",
              "      <td>0.000</td>\n",
              "      <td>0.000</td>\n",
              "      <td>0.0</td>\n",
              "      <td>0.125</td>\n",
              "      <td>0.000</td>\n",
              "      <td>0.00</td>\n",
              "      <td>1.250</td>\n",
              "      <td>5</td>\n",
              "      <td>40</td>\n",
              "      <td>0</td>\n",
              "    </tr>\n",
              "  </tbody>\n",
              "</table>\n",
              "<p>3681 rows × 58 columns</p>\n",
              "</div>\n",
              "    <div class=\"colab-df-buttons\">\n",
              "\n",
              "  <div class=\"colab-df-container\">\n",
              "    <button class=\"colab-df-convert\" onclick=\"convertToInteractive('df-cb390d12-1541-4b19-a471-cbbc31e1ee28')\"\n",
              "            title=\"Convert this dataframe to an interactive table.\"\n",
              "            style=\"display:none;\">\n",
              "\n",
              "  <svg xmlns=\"http://www.w3.org/2000/svg\" height=\"24px\" viewBox=\"0 -960 960 960\">\n",
              "    <path d=\"M120-120v-720h720v720H120Zm60-500h600v-160H180v160Zm220 220h160v-160H400v160Zm0 220h160v-160H400v160ZM180-400h160v-160H180v160Zm440 0h160v-160H620v160ZM180-180h160v-160H180v160Zm440 0h160v-160H620v160Z\"/>\n",
              "  </svg>\n",
              "    </button>\n",
              "\n",
              "  <style>\n",
              "    .colab-df-container {\n",
              "      display:flex;\n",
              "      gap: 12px;\n",
              "    }\n",
              "\n",
              "    .colab-df-convert {\n",
              "      background-color: #E8F0FE;\n",
              "      border: none;\n",
              "      border-radius: 50%;\n",
              "      cursor: pointer;\n",
              "      display: none;\n",
              "      fill: #1967D2;\n",
              "      height: 32px;\n",
              "      padding: 0 0 0 0;\n",
              "      width: 32px;\n",
              "    }\n",
              "\n",
              "    .colab-df-convert:hover {\n",
              "      background-color: #E2EBFA;\n",
              "      box-shadow: 0px 1px 2px rgba(60, 64, 67, 0.3), 0px 1px 3px 1px rgba(60, 64, 67, 0.15);\n",
              "      fill: #174EA6;\n",
              "    }\n",
              "\n",
              "    .colab-df-buttons div {\n",
              "      margin-bottom: 4px;\n",
              "    }\n",
              "\n",
              "    [theme=dark] .colab-df-convert {\n",
              "      background-color: #3B4455;\n",
              "      fill: #D2E3FC;\n",
              "    }\n",
              "\n",
              "    [theme=dark] .colab-df-convert:hover {\n",
              "      background-color: #434B5C;\n",
              "      box-shadow: 0px 1px 3px 1px rgba(0, 0, 0, 0.15);\n",
              "      filter: drop-shadow(0px 1px 2px rgba(0, 0, 0, 0.3));\n",
              "      fill: #FFFFFF;\n",
              "    }\n",
              "  </style>\n",
              "\n",
              "    <script>\n",
              "      const buttonEl =\n",
              "        document.querySelector('#df-cb390d12-1541-4b19-a471-cbbc31e1ee28 button.colab-df-convert');\n",
              "      buttonEl.style.display =\n",
              "        google.colab.kernel.accessAllowed ? 'block' : 'none';\n",
              "\n",
              "      async function convertToInteractive(key) {\n",
              "        const element = document.querySelector('#df-cb390d12-1541-4b19-a471-cbbc31e1ee28');\n",
              "        const dataTable =\n",
              "          await google.colab.kernel.invokeFunction('convertToInteractive',\n",
              "                                                    [key], {});\n",
              "        if (!dataTable) return;\n",
              "\n",
              "        const docLinkHtml = 'Like what you see? Visit the ' +\n",
              "          '<a target=\"_blank\" href=https://colab.research.google.com/notebooks/data_table.ipynb>data table notebook</a>'\n",
              "          + ' to learn more about interactive tables.';\n",
              "        element.innerHTML = '';\n",
              "        dataTable['output_type'] = 'display_data';\n",
              "        await google.colab.output.renderOutput(dataTable, element);\n",
              "        const docLink = document.createElement('div');\n",
              "        docLink.innerHTML = docLinkHtml;\n",
              "        element.appendChild(docLink);\n",
              "      }\n",
              "    </script>\n",
              "  </div>\n",
              "\n",
              "\n",
              "<div id=\"df-c162bb9a-d589-4e33-ac3f-e8a7630cc952\">\n",
              "  <button class=\"colab-df-quickchart\" onclick=\"quickchart('df-c162bb9a-d589-4e33-ac3f-e8a7630cc952')\"\n",
              "            title=\"Suggest charts\"\n",
              "            style=\"display:none;\">\n",
              "\n",
              "<svg xmlns=\"http://www.w3.org/2000/svg\" height=\"24px\"viewBox=\"0 0 24 24\"\n",
              "     width=\"24px\">\n",
              "    <g>\n",
              "        <path d=\"M19 3H5c-1.1 0-2 .9-2 2v14c0 1.1.9 2 2 2h14c1.1 0 2-.9 2-2V5c0-1.1-.9-2-2-2zM9 17H7v-7h2v7zm4 0h-2V7h2v10zm4 0h-2v-4h2v4z\"/>\n",
              "    </g>\n",
              "</svg>\n",
              "  </button>\n",
              "\n",
              "<style>\n",
              "  .colab-df-quickchart {\n",
              "      --bg-color: #E8F0FE;\n",
              "      --fill-color: #1967D2;\n",
              "      --hover-bg-color: #E2EBFA;\n",
              "      --hover-fill-color: #174EA6;\n",
              "      --disabled-fill-color: #AAA;\n",
              "      --disabled-bg-color: #DDD;\n",
              "  }\n",
              "\n",
              "  [theme=dark] .colab-df-quickchart {\n",
              "      --bg-color: #3B4455;\n",
              "      --fill-color: #D2E3FC;\n",
              "      --hover-bg-color: #434B5C;\n",
              "      --hover-fill-color: #FFFFFF;\n",
              "      --disabled-bg-color: #3B4455;\n",
              "      --disabled-fill-color: #666;\n",
              "  }\n",
              "\n",
              "  .colab-df-quickchart {\n",
              "    background-color: var(--bg-color);\n",
              "    border: none;\n",
              "    border-radius: 50%;\n",
              "    cursor: pointer;\n",
              "    display: none;\n",
              "    fill: var(--fill-color);\n",
              "    height: 32px;\n",
              "    padding: 0;\n",
              "    width: 32px;\n",
              "  }\n",
              "\n",
              "  .colab-df-quickchart:hover {\n",
              "    background-color: var(--hover-bg-color);\n",
              "    box-shadow: 0 1px 2px rgba(60, 64, 67, 0.3), 0 1px 3px 1px rgba(60, 64, 67, 0.15);\n",
              "    fill: var(--button-hover-fill-color);\n",
              "  }\n",
              "\n",
              "  .colab-df-quickchart-complete:disabled,\n",
              "  .colab-df-quickchart-complete:disabled:hover {\n",
              "    background-color: var(--disabled-bg-color);\n",
              "    fill: var(--disabled-fill-color);\n",
              "    box-shadow: none;\n",
              "  }\n",
              "\n",
              "  .colab-df-spinner {\n",
              "    border: 2px solid var(--fill-color);\n",
              "    border-color: transparent;\n",
              "    border-bottom-color: var(--fill-color);\n",
              "    animation:\n",
              "      spin 1s steps(1) infinite;\n",
              "  }\n",
              "\n",
              "  @keyframes spin {\n",
              "    0% {\n",
              "      border-color: transparent;\n",
              "      border-bottom-color: var(--fill-color);\n",
              "      border-left-color: var(--fill-color);\n",
              "    }\n",
              "    20% {\n",
              "      border-color: transparent;\n",
              "      border-left-color: var(--fill-color);\n",
              "      border-top-color: var(--fill-color);\n",
              "    }\n",
              "    30% {\n",
              "      border-color: transparent;\n",
              "      border-left-color: var(--fill-color);\n",
              "      border-top-color: var(--fill-color);\n",
              "      border-right-color: var(--fill-color);\n",
              "    }\n",
              "    40% {\n",
              "      border-color: transparent;\n",
              "      border-right-color: var(--fill-color);\n",
              "      border-top-color: var(--fill-color);\n",
              "    }\n",
              "    60% {\n",
              "      border-color: transparent;\n",
              "      border-right-color: var(--fill-color);\n",
              "    }\n",
              "    80% {\n",
              "      border-color: transparent;\n",
              "      border-right-color: var(--fill-color);\n",
              "      border-bottom-color: var(--fill-color);\n",
              "    }\n",
              "    90% {\n",
              "      border-color: transparent;\n",
              "      border-bottom-color: var(--fill-color);\n",
              "    }\n",
              "  }\n",
              "</style>\n",
              "\n",
              "  <script>\n",
              "    async function quickchart(key) {\n",
              "      const quickchartButtonEl =\n",
              "        document.querySelector('#' + key + ' button');\n",
              "      quickchartButtonEl.disabled = true;  // To prevent multiple clicks.\n",
              "      quickchartButtonEl.classList.add('colab-df-spinner');\n",
              "      try {\n",
              "        const charts = await google.colab.kernel.invokeFunction(\n",
              "            'suggestCharts', [key], {});\n",
              "      } catch (error) {\n",
              "        console.error('Error during call to suggestCharts:', error);\n",
              "      }\n",
              "      quickchartButtonEl.classList.remove('colab-df-spinner');\n",
              "      quickchartButtonEl.classList.add('colab-df-quickchart-complete');\n",
              "    }\n",
              "    (() => {\n",
              "      let quickchartButtonEl =\n",
              "        document.querySelector('#df-c162bb9a-d589-4e33-ac3f-e8a7630cc952 button');\n",
              "      quickchartButtonEl.style.display =\n",
              "        google.colab.kernel.accessAllowed ? 'block' : 'none';\n",
              "    })();\n",
              "  </script>\n",
              "</div>\n",
              "\n",
              "  <div id=\"id_272196ad-4f7d-4782-9449-9321832e1d25\">\n",
              "    <style>\n",
              "      .colab-df-generate {\n",
              "        background-color: #E8F0FE;\n",
              "        border: none;\n",
              "        border-radius: 50%;\n",
              "        cursor: pointer;\n",
              "        display: none;\n",
              "        fill: #1967D2;\n",
              "        height: 32px;\n",
              "        padding: 0 0 0 0;\n",
              "        width: 32px;\n",
              "      }\n",
              "\n",
              "      .colab-df-generate:hover {\n",
              "        background-color: #E2EBFA;\n",
              "        box-shadow: 0px 1px 2px rgba(60, 64, 67, 0.3), 0px 1px 3px 1px rgba(60, 64, 67, 0.15);\n",
              "        fill: #174EA6;\n",
              "      }\n",
              "\n",
              "      [theme=dark] .colab-df-generate {\n",
              "        background-color: #3B4455;\n",
              "        fill: #D2E3FC;\n",
              "      }\n",
              "\n",
              "      [theme=dark] .colab-df-generate:hover {\n",
              "        background-color: #434B5C;\n",
              "        box-shadow: 0px 1px 3px 1px rgba(0, 0, 0, 0.15);\n",
              "        filter: drop-shadow(0px 1px 2px rgba(0, 0, 0, 0.3));\n",
              "        fill: #FFFFFF;\n",
              "      }\n",
              "    </style>\n",
              "    <button class=\"colab-df-generate\" onclick=\"generateWithVariable('spambase_df')\"\n",
              "            title=\"Generate code using this dataframe.\"\n",
              "            style=\"display:none;\">\n",
              "\n",
              "  <svg xmlns=\"http://www.w3.org/2000/svg\" height=\"24px\"viewBox=\"0 0 24 24\"\n",
              "       width=\"24px\">\n",
              "    <path d=\"M7,19H8.4L18.45,9,17,7.55,7,17.6ZM5,21V16.75L18.45,3.32a2,2,0,0,1,2.83,0l1.4,1.43a1.91,1.91,0,0,1,.58,1.4,1.91,1.91,0,0,1-.58,1.4L9.25,21ZM18.45,9,17,7.55Zm-12,3A5.31,5.31,0,0,0,4.9,8.1,5.31,5.31,0,0,0,1,6.5,5.31,5.31,0,0,0,4.9,4.9,5.31,5.31,0,0,0,6.5,1,5.31,5.31,0,0,0,8.1,4.9,5.31,5.31,0,0,0,12,6.5,5.46,5.46,0,0,0,6.5,12Z\"/>\n",
              "  </svg>\n",
              "    </button>\n",
              "    <script>\n",
              "      (() => {\n",
              "      const buttonEl =\n",
              "        document.querySelector('#id_272196ad-4f7d-4782-9449-9321832e1d25 button.colab-df-generate');\n",
              "      buttonEl.style.display =\n",
              "        google.colab.kernel.accessAllowed ? 'block' : 'none';\n",
              "\n",
              "      buttonEl.onclick = () => {\n",
              "        google.colab.notebook.generateWithVariable('spambase_df');\n",
              "      }\n",
              "      })();\n",
              "    </script>\n",
              "  </div>\n",
              "\n",
              "    </div>\n",
              "  </div>\n"
            ],
            "application/vnd.google.colaboratory.intrinsic+json": {
              "type": "dataframe",
              "variable_name": "spambase_df"
            }
          },
          "metadata": {},
          "execution_count": 34
        }
      ]
    },
    {
      "cell_type": "markdown",
      "source": [
        "The above database contains a total of 57 continuous-valued variables and one binary target variable. The input variables are descriptive statistics extracted from emails, giving the relative frequency of occurrence of each word and character (in percentage terms, variables starting with `word_freq_*` and `char_freq_*`), the average length of all uppercase character sequences, the length of the longest such sequence, and the total number of uppercase characters. The target variable is `Class`, shown in the last column of the dataset, which indicates whether the original email is considered spam (`Class=1`) or not (`Class=0`).\n",
        "\n",
        "Then, in preparation for training, let us split the dataset into training and test subsets:"
      ],
      "metadata": {
        "id": "rV-b3OU0JNue"
      }
    },
    {
      "cell_type": "code",
      "source": [
        "from sklearn.model_selection import train_test_split\n",
        "\n",
        "X = spambase_df.drop(\"Class\", axis=1).values\n",
        "y = spambase_df[\"Class\"].values\n",
        "\n",
        "X_train, X_test, y_train, y_test = train_test_split(X, y, test_size=0.2, shuffle=True, random_state=42)"
      ],
      "metadata": {
        "id": "JKHdr9ZRRKHQ"
      },
      "execution_count": 35,
      "outputs": []
    },
    {
      "cell_type": "markdown",
      "source": [
        "## **6. Task submission**\n",
        "\n",
        "The task is to create a spam classifier using the model ensembles described above and the `spambase` dataset.\n",
        "\n",
        "**Do this by modifying the skeleton of the `spam_predictor.py` file shown below!**\n",
        "\n",
        "Modify the `predict` function in the skeleton to create a model ensemble of any type, train it on the training data (`X_train` and `y_train`) given as parameters, and return with predictions on the test set (`X_test`) given as a parameter.\n",
        "\n",
        "> Hint: The `sklearn` library is installed on the Moodle evaluation server, so you should use the [model ensemble methods](https://scikit-learn.org/stable/api/sklearn.ensemble.html) and [classifiers](https://scikit-learn.org/stable/auto_examples/classification/plot_classifier_comparison.html) provided there."
      ],
      "metadata": {
        "id": "ctuFvXq84XoC"
      }
    },
    {
      "cell_type": "code",
      "source": [
        "from sklearn.ensemble import AdaBoostClassifier\n",
        "from sklearn.tree import DecisionTreeClassifier\n",
        "\n",
        "def predict(X_train, y_train, X_test):\n",
        "\n",
        "    ensemble_model = AdaBoostClassifier(\n",
        "        estimator=DecisionTreeClassifier(max_depth=3),\n",
        "        n_estimators=50,\n",
        "        learning_rate=1.0,\n",
        "        random_state=42,\n",
        "        algorithm=\"SAMME\"\n",
        "    )\n",
        "\n",
        "\n",
        "    ensemble_model.fit(X_train, y_train)\n",
        "    return ensemble_model.predict(X_test)"
      ],
      "metadata": {
        "id": "vam0-xBNTiL1"
      },
      "execution_count": 43,
      "outputs": []
    },
    {
      "cell_type": "markdown",
      "source": [
        "We then check the accuracy of the `predict` function defined above on the test set:"
      ],
      "metadata": {
        "id": "r92bdywISLQt"
      }
    },
    {
      "cell_type": "code",
      "source": [
        "from sklearn.metrics import accuracy_score\n",
        "\n",
        "y_pred = predict(X_train, y_train, X_test)\n",
        "\n",
        "accuracy = accuracy_score(y_test, y_pred)\n",
        "print(f\"Ensemble Classifier Accuracy: {accuracy:.3f}\")"
      ],
      "metadata": {
        "id": "ENZbIRkESH5x",
        "outputId": "7ddadb3d-7b17-401d-e0f0-6bb284a4be3e",
        "colab": {
          "base_uri": "https://localhost:8080/"
        }
      },
      "execution_count": 42,
      "outputs": [
        {
          "output_type": "stream",
          "name": "stdout",
          "text": [
            "Ensemble Classifier Accuracy: 0.948\n"
          ]
        }
      ]
    },
    {
      "cell_type": "markdown",
      "source": [
        "The Moodle assignment for the lab is considered complete if a separate test set in the `spambase` database achieves at least `93%` accuracy. The test set used in the Moodle system **is not identical to the test set seen here**, but contains the same variables.\n",
        "\n",
        "> **Important:** When submitting the assignment, please make sure that the file name is `spam_predictor.py` and that the `predict` function is defined in the same way as shown above."
      ],
      "metadata": {
        "id": "GAq31x5tSpig"
      }
    },
    {
      "cell_type": "markdown",
      "source": [
        "Submission:\n",
        "\n",
        "https://edu.vik.bme.hu/mod/quiz/view.php?id=152403"
      ],
      "metadata": {
        "id": "8dCJXEC8WTWS"
      }
    }
  ]
}