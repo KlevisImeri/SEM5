{
  "nbformat": 4,
  "nbformat_minor": 0,
  "metadata": {
    "colab": {
      "provenance": []
    },
    "kernelspec": {
      "name": "python3",
      "display_name": "Python 3"
    },
    "language_info": {
      "name": "python"
    }
  },
  "cells": [
    {
      "cell_type": "markdown",
      "source": [
        "![flexsys_logo.png](data:image/png;base64,iVBORw0KGgoAAAANSUhEUgAAAFoAAABFCAYAAADKKPFMAAAABHNCSVQICAgIfAhkiAAAAAlwSFlzAAAGOAAABjgBco5mFwAAABl0RVh0U29mdHdhcmUAd3d3Lmlua3NjYXBlLm9yZ5vuPBoAAAUySURBVHic7ZxNiBxFGIbfr2dMgpOkN+q6xhBD1MN2dA2J6MGLXgRPXtRcRcL6gyBGFA9hd34i6EEQBUFQEAQPUdCIgkJWDx4EUdlFyQwxEhHMZvPLzmZ3NrLpej2soJmuqrF7Zmp7l3qO885X9fXbM1Vf/1QJPFdRC3ftI3hYpwkwMd5sPJil3aC7tNYeBMWsgVnb9UY7whvtCG+0I7zRjihmDaxt3vUZhdtShAwAYpxoAEAKeHj8Yv1Y1pzyTGajKWoEkJ0po6yqirE+az55xw8djvBGO8Ib7QhvtCNyZXQRKlf59JLMVQfsJcQJAJcBKbULArWDkIIuKA4Kg13kk4CAVAFtSVkBVC/76kQ3Rttq4mfLzcZRnVANo9MAbtI2SMx0kU+CWhj9IMDdWk1k7/hsfbKX/dlYs3/VvOGNdoQ32hHeaEd4ox3RTdXRc0h8WA2jVqoYYLLSbIxqRZG3hdiqkwpLwXSGFO+qhtFHOmFT89LjL+DPRVNgrowGGKWNEGDBpJVn6+93l0+CIQCP6YSlG0r7cd4cuBaGjjtXOoH/w6o3WgDtVWbeWPVGrxa80Y7I2WTYW2pbhkegsE6nqVKpUZn+KVWF0w25MpqQZwD+ppEeEOCgPgYnje0p+RzADq3YurwHwFTKFH8G5BWdsHh+6yJw3BiYK6MDwffjs43EHbVqGF1vCbvUx5TaOVNu1j/WS3VroB+jHeGNdoQ32hHeaEd4ox3hjXaEN9oR3mhHeKMd4Y12hDfaEd5oR3ijHeGNdoQ32hHeaEd4ox3hjXbESjzKMr7AriCGVQTqFtNvQoCd1TB6TacR2GLqTMjnqmF0NhFDRmJadypIs4D1KpwbXW42tG/7W2GwzXR6CGwH8LJOsy7TBZ/QxtgW9xJD1iYtODf69VvvmyisX3dj++dq6cpS69y5R8eax393nZMLnBtdGhq8/envjiReAfji+crZyQ8Ob3SdTxrYxRN3PxmmIAB+7SI2H0iHnQ9WO7kxGgIoy35Gq51cvalkIpBr3iT/+lGnSSAtEn+4yEMoc1lji7VwWLvgEQBUXFiszB+zv+vkglhtYCHQ17DEhfFm4xOddOi64VEV6xZ0igqIN8bmGifalUoY7RXwSW1fBZnC8qrgBLWBO3aT6iHDEagiIV/DcKEgBV4EcJshuKeICAIWtUMHg3g3IIMEv9LIYwDe08WpGKOA3KORWkrwKTSmFYUjMeUpbR6KUwDe0WqM74VIicS37ZoArxZFsEDyZl0wgMSV00ohgnp5tjHR/nktjF5K3xji7DvYWaD8UmnWtTm6nwzJ1IdI6a0tthlXKdNtgE5tmuMISH6qjr5gO3h9hWPfrTF7VVSkgu0UmxXKEQbQb/twBadTZyICZemP7F3pZ9sW00anIDF8RQBm3yUs4FugYSOTzZtmMJ+1ZTcIO/qWgJ29NpLZaKEcJYrfJD4HRzC/eAjAl+kaNB+EQMi+zF6964sdxhWr0bZAAU6Wm/VEGVQdiA5k8UREGFhyNf0tO2DIRMzSskr9r7fDjVdL/j2fDKWLrX9dQhSynLjMQ0dfqg7rHszm6q4v+zanJWtfIvaysOdGZzZFBMpSWWSsFEy5WNvKFAT7BNuXX7RtPLU+KnKIZDhx3VUdATcK5ZShYeOJIDBcC6PETmAktpN80RQ3Nz2z4d37HznDWMX8zzgyd2qmZJoMCaFADtTCaF97c5Tklm//Igsgp6X9ypK41nRLVqAIyCyA1vJXsQTwn63b5IKpJwKE4GAtjPZrtD1/Ay3aiOaEeIwPAAAAAElFTkSuQmCC) Department of Artificial Intelligence and Systems Engineering, ©2024, BME-MIT, Gabor Revy, Dr. Gabor Hullam  \n",
        "# **VIMIAC16 - Artificial Intelligence**\n",
        "## 2024 Fall Semester\n",
        "## **LAB 2 - CSP**"
      ],
      "metadata": {
        "id": "2w95qUoA5-ze"
      }
    },
    {
      "cell_type": "markdown",
      "source": [
        "# Constraint Satisfaction Problems\n",
        "\n",
        "Constraint satisfaction problems (CSP) can be defined by the triplet $\\langle X, D, C \\rangle$:\n",
        "- $X = \\{X_1, \\ldots, X_n\\}$ is the set of variables\n",
        "- $D = \\{D_1, \\ldots, D_n\\}$ is the non-empty domain of possible values for these variables\n",
        "- $C = \\{C_1, \\ldots, C_m\\}$ is the set of constraints\n",
        "\n",
        "The goal is to find an assignment of the $X_i$ variables from the $D_i$ domains that satisfies the $C_i$ constraints.\n",
        "\n",
        "For a detailed description and examples of CSPs, see [here](http://project.mit.bme.hu/mi_almanach/books/aima/ch05s01)."
      ],
      "metadata": {
        "id": "flIg-ZEAr-gX"
      }
    },
    {
      "cell_type": "markdown",
      "source": [
        "In this lab, we will use the [OR-TOOLS](https://developers.google.com/optimization) constraint programming library. You can install it by running the following code block."
      ],
      "metadata": {
        "id": "jNzo7uB0v9Te"
      }
    },
    {
      "cell_type": "code",
      "source": [
        "# @title Install, download\n",
        "print('0/2 INSTALL STARTED')\n",
        "!pip install ortools &> /dev/null\n",
        "print('1/2 INSTALL DONE')\n",
        "!wget -q -O helpers.zip https://gist.github.com/revygabor/9a84a459fd26d46cbbc656ca9b0e17b0/archive/d500e6e4f4b5efdabf809a38ebdce4e404aa6973.zip\n",
        "!unzip -qj helpers.zip\n",
        "print('2/2 DOWNLOAD DONE')"
      ],
      "metadata": {
        "id": "J2-TBVXm5zXt",
        "colab": {
          "base_uri": "https://localhost:8080/"
        },
        "outputId": "18cc15d5-688c-4b0f-eab6-74ef5139bec7",
        "cellView": "form"
      },
      "execution_count": null,
      "outputs": [
        {
          "output_type": "stream",
          "name": "stdout",
          "text": [
            "0/2 INSTALL STARTED\n",
            "1/2 INSTALL DONE\n",
            "2/2 DOWNLOAD DONE\n"
          ]
        }
      ]
    },
    {
      "cell_type": "markdown",
      "source": [
        "# Task Description\n",
        "\n",
        "When solving the tasks, variables, their domains, and constraints must be defined. The domains of the variables are determined during their definition.\n",
        "\n",
        "### Example Code Snippets Necessary for the Solution:\n",
        "\n",
        "- Importing the library\n",
        "  ```python\n",
        "  from ortools.sat.python import cp_model\n",
        "  ```\n",
        "\n",
        "- Creating a model to solve the CSP problem\n",
        "  ```python\n",
        "  model = cp_model.CpModel()\n",
        "  ```\n",
        "\n",
        "- Defining a variable named $x$ that takes an integer value between 1 and 10\n",
        "  ```python\n",
        "  x = model.NewIntVar(1, 10, \"x\")\n",
        "  ```\n",
        "\n",
        "- Defining a constraint related to previously defined variables x, y\n",
        "  - ```python\n",
        "  model.Add(3 * x + 5 * y <= 48)\n",
        "  ```\n",
        "  \n",
        "  - For a \"not equal\" constraint, the != operator can be used.\n",
        "  - The constraint of multiple variables being different can be added to the model with a list.\n",
        "  ```python\n",
        "  model.AddAllDifferent([x, y, z])\n",
        "  ```\n",
        "\n",
        "- If there is an objective function—e.g., maximization—it can be formulated after defining the variables (we won't use an objective function during this lab).\n",
        "<br/> ```model.Maximize(3 * x + 2 * y)```\n",
        "\n",
        "- Next, the search for a solution begins.\n",
        "<br/> ```solver = cp_model.CpSolver()```\n",
        "<br/> ```status = solver.Solve(model)```\n",
        "\n",
        "- The result of the run can be retrieved as follows:\n",
        "  - The ```status``` variable is an \"[enum](https://developers.google.com/optimization/cp/cp_solver#cp-sat_return_values)\", the state can be obtained textually with the code ```solver.StatusName(status)```\n",
        "  - By default, the program returns the first solution.\n",
        "  <br/> ```solution_x = solver.Value(x)```\n",
        "  <br/> If multiple solutions are desired, a callback function needs to be written (this will not be covered in the lab).\n",
        "\n",
        "\n",
        "The code should only be completed at the places marked with __TODO__."
      ],
      "metadata": {
        "id": "QZULOVV3wbBu"
      }
    },
    {
      "cell_type": "markdown",
      "source": [
        "## Cryptarithmetic\n",
        "\n",
        "The first task is to solve a cryptarithmetic puzzle.\n",
        "\n",
        "\\begin{array}{}\n",
        "  & S & E & N & D \\\\\n",
        "+ & M & O & R & E \\\\ \\hline\n",
        "M & O & N & E & Y \\\\\n",
        "\\end{array}\n",
        "\n",
        "In this puzzle, different letters represent different digits, while identical letters represent the same digit. When defining the variables, it is important to pay attention to the domains of the initial letters of the words."
      ],
      "metadata": {
        "id": "QAUHrh4a-4_m"
      }
    },
    {
      "cell_type": "code",
      "source": [
        "%reset -f\n",
        "\n",
        "from ortools.sat.python import cp_model\n",
        "\n",
        "\"\"\"Solve the SEND+MORE==MONEY cryptarithm.\"\"\"\n",
        "\"\"\"\n",
        "  SEND\n",
        "+ MORE\n",
        "------\n",
        " MONEY\n",
        "\"\"\"\n",
        "# Create CP model\n",
        "model = cp_model.CpModel()\n",
        "\n",
        "base = 10\n",
        "\n",
        "# Create variables and define their intervals.\n",
        "# Mind the first letters of the words!\n",
        "# TODO\n",
        "# s =\n",
        "# e =\n",
        "# ...\n",
        "\n",
        "# We need to group variables in a list to use the constraint AllDifferent.\n",
        "letters = [s, e, n, d, m, o, r, y]\n",
        "\n",
        "# Define constraints.\n",
        "# 1) All letters have a different value.\n",
        "# TODO\n",
        "\n",
        "# 2) SEND + MORE = MONEY\n",
        "# TODO\n",
        "\n",
        "# Create a solver and solves the model.\n",
        "solver = cp_model.CpSolver()\n",
        "# Enumerate all solutions.\n",
        "solver.parameters.enumerate_all_solutions = True\n",
        "# Solve.\n",
        "status = solver.Solve(model)\n",
        "\n",
        "# Result.\n",
        "print(f\"status: {solver.StatusName(status)}\")\n",
        "print(f\"assignment:\")\n",
        "for l in letters:\n",
        "  print(f'\\t{l}: {solver.Value(l)}')\n",
        "print(f\"{''.join([str(solver.Value(l)) for l in [s, e, n, d]])} + \"\n",
        "f\"{''.join([str(solver.Value(l)) for l in [m, o, r, e]])} =? \"\n",
        "f\"{''.join([str(solver.Value(l)) for l in [m, o, n, e, y]])}\")"
      ],
      "metadata": {
        "id": "pkb1OxUP6rZc"
      },
      "execution_count": null,
      "outputs": []
    },
    {
      "cell_type": "markdown",
      "source": [
        "The task has a unique solution with the following assignments:\n",
        "\n",
        "| Letter | Value |\n",
        "| ------ | ----- |\n",
        "| S      | 9     |\n",
        "| E      | 5     |\n",
        "| N      | 6     |\n",
        "| D      | 7     |\n",
        "| M      | 1     |\n",
        "| O      | 0     |\n",
        "| R      | 8     |\n",
        "| Y      | 2     |\n"
      ],
      "metadata": {
        "id": "LEzOTw2pKx60"
      }
    },
    {
      "cell_type": "markdown",
      "source": [
        "## Map Coloring\n",
        "\n",
        "Since the [Four color theorem](https://en.wikipedia.org/wiki/Four_color_theorem), we know that every planar graph can be colored with four colors. Our goal is to color the countries on a continent in such a way that neighboring countries cannot share the same color. The constraint graph for this problem is planar, so theoretically, the task is solvable.\n"
      ],
      "metadata": {
        "id": "8dhF_8EeDuvW"
      }
    },
    {
      "cell_type": "markdown",
      "source": [
        "To start, we first need to download a world map and then load a continent, for example Africa."
      ],
      "metadata": {
        "id": "c8W06wB1I5_T"
      }
    },
    {
      "cell_type": "code",
      "source": [
        "%reset -f\n",
        "\n",
        "import geopandas as gpd\n",
        "import matplotlib.pyplot as plt\n",
        "from map_coloring_helper import get_bordering_countries, plot_colored_map\n",
        "\n",
        "# Load world map from file and select a continent\n",
        "world = gpd.read_file(\"https://naciscdn.org/naturalearth/110m/cultural/ne_110m_admin_0_countries.zip\")\n",
        "print(f\"continents: {', '.join(world['CONTINENT'].unique())}\")\n",
        "world[['CONTINENT', 'SOVEREIGNT']]"
      ],
      "metadata": {
        "id": "DGIJzvNUfVDx"
      },
      "execution_count": null,
      "outputs": []
    },
    {
      "cell_type": "code",
      "source": [
        "continent_name = 'Africa'\n",
        "continent = world[world['CONTINENT'] == continent_name].copy().reset_index(drop=True)\n",
        "\n",
        "# Plot continent\n",
        "continent.plot(color='white', edgecolor='black')\n",
        "plt.axis('off');"
      ],
      "metadata": {
        "id": "EAV9Ls5IMCpR"
      },
      "execution_count": null,
      "outputs": []
    },
    {
      "cell_type": "markdown",
      "source": [
        "Let the colors be represented by integers, and we will formulate the constraints accordingly.\n",
        "\n",
        "The variable ```bordering_country_index_pairs``` contains pairs of indices for neighboring countries on the continent."
      ],
      "metadata": {
        "id": "bQG0ZzBeI7Wo"
      }
    },
    {
      "cell_type": "code",
      "source": [
        "from ortools.sat.python import cp_model\n",
        "\n",
        "# Define the constraints for the map coloring problem\n",
        "def map_coloring_csp(map_):\n",
        "    model = cp_model.CpModel()\n",
        "    # set number of colors\n",
        "    num_colors =   # TODO\n",
        "    num_countries = len(map_)\n",
        "\n",
        "    # Create the variables:\n",
        "    # There are `num_countries` number of variables, each encoding the color (integer) of a country.\n",
        "    # TODO\n",
        "    # country_colors = [... for i in range(num_countries)]\n",
        "\n",
        "    # Calculate index pairs of bordering countries (returns list of tuples)\n",
        "    bordering_country_index_pairs = get_bordering_countries(map_)\n",
        "\n",
        "    # Define constraints\n",
        "    # 1) Bordering countries cannot have the same color\n",
        "    # TODO\n",
        "    # for c1, c2 in bordering_country_index_pairs:\n",
        "    #   ...\n",
        "\n",
        "    # Use ortools to solve the CSP problem\n",
        "    solver = cp_model.CpSolver()\n",
        "    status = solver.Solve(model)\n",
        "\n",
        "    print(f'Status: {solver.StatusName(status)}')\n",
        "    if status == cp_model.OPTIMAL:\n",
        "        coloring = [solver.Value(color) for color in country_colors]\n",
        "        return coloring\n",
        "    else:\n",
        "        print(\"No solution found.\")\n",
        "        return None\n",
        "\n",
        "coloring = map_coloring_csp(continent)\n",
        "if coloring:\n",
        "    plot_colored_map(continent, coloring)"
      ],
      "metadata": {
        "id": "InF8s2ZE7HG3"
      },
      "execution_count": null,
      "outputs": []
    },
    {
      "cell_type": "markdown",
      "source": [
        "## N Queens Problem\n",
        "\n",
        "The task is a generalization of the eight queens problem: on an $n \\times n$ chessboard, we need to place $n$ queens such that no two queens threaten each other. This means that no two queens can occupy the same row, column, or diagonal. Since there is exactly one queen in each column, we will identify them by their column indices, and the variables will contain the row indices. Our goal is to find all possible solutions."
      ],
      "metadata": {
        "id": "Syj9gc3X_GjP"
      }
    },
    {
      "cell_type": "code",
      "source": [
        "%reset -f\n",
        "\n",
        "from ortools.sat.python import cp_model\n",
        "from n_queens_helper import NQueenSolutionPrinter\n",
        "\n",
        "def solve_n_queens(board_size):\n",
        "    # Create solver\n",
        "    model = cp_model.CpModel()\n",
        "\n",
        "    # Create the variables:\n",
        "    # There are `board_size` number of variables, one for a queen in each column\n",
        "    # of the board. The value of each variable is the row that the queen is in.\n",
        "    # TODO\n",
        "    # queens = [... for i in range(board_size)]\n",
        "\n",
        "    # Create constraints\n",
        "    # 1) All rows must be different.\n",
        "    # TODO\n",
        "\n",
        "    # 2) No two queens can be on the same diagonal.\n",
        "    # TODO\n",
        "\n",
        "    # Solve the model.\n",
        "    solver = cp_model.CpSolver()\n",
        "    solution_printer = NQueenSolutionPrinter(queens)\n",
        "    solver.parameters.enumerate_all_solutions = True\n",
        "    solver.Solve(model, solution_printer)\n",
        "\n",
        "    # Statistics.\n",
        "    print(\"\\nStatistics\")\n",
        "    print(f\"  conflicts      : {solver.NumConflicts()}\")\n",
        "    print(f\"  branches       : {solver.NumBranches()}\")\n",
        "    print(f\"  wall time      : {solver.WallTime()} s\")\n",
        "    print(f\"  solutions found: {solution_printer.solution_count()}\")\n",
        "\n",
        "chess_board_size = 8\n",
        "solve_n_queens(chess_board_size)"
      ],
      "metadata": {
        "id": "O9dhnwYVUL8R"
      },
      "execution_count": null,
      "outputs": []
    },
    {
      "cell_type": "markdown",
      "source": [
        "# **Submission**\n",
        "\n",
        "**In this task, the goal is to create a [sudoku](https://en.wikipedia.org/wiki/Sudoku) solver.**\n",
        "\n",
        "# Task description\n",
        "\n",
        "The essence of sudoku is briefly as follows:\n",
        "\n",
        "- There is a $9\\times9$ grid, containing 9 $3\\times3$ sub-grids.\n",
        "- The aim is to fill the grid with the numbers $1, 2, ..., 8, 9$ such that:\n",
        "  - each row\n",
        "  - each column\n",
        "  - each sub-grid \\\n",
        "  contains each of the numbers $1...9$ exactly once.\n",
        "- The grid is partially pre-filled with numbers.\n",
        "\n",
        "# Specification\n",
        "\n",
        "You must upload a Python file named `sudoku_solver.py` to the Moodle platform. It must implement a function named `solve_sudoku` that takes the pre-filled grid and returns a solution in the same format. **The format of the grid is**: a list of lists, where the 1st index refers to the row and the 2nd index refers to the column. The empty cells of the board are represented with 0. So the file to be uploaded should look something like this:\n",
        "\n",
        "```python\n",
        "from ortools.sat.python import cp_model\n",
        "import math\n",
        "\n",
        "def solve_sudoku(board):\n",
        "    solution = ...\n",
        "    return solution\n",
        "```\n"
      ],
      "metadata": {
        "id": "ekt8RLR8CI5L"
      }
    },
    {
      "cell_type": "markdown",
      "source": [
        "#Useful Information\n",
        "##Solution Environment\n",
        "It is recommended to use the ortools library for the solution. This is also available on the evaluation server.\n",
        "\n",
        "##Scoring\n",
        "The evaluation will be based on 4 grids with different levels of filling ($0.2, 0.5, 0.8$, and $0.9$), worth $1, 3, 4$, and $4$ points respectively. If the uploaded solution reaches 8 points, the lab assignment is accepted by Moodle."
      ],
      "metadata": {
        "id": "_EcN5oIfDou1"
      }
    },
    {
      "cell_type": "markdown",
      "source": [
        "# Submission\n",
        "\n",
        "The Moodle submission interface can be accessed via this link:\n",
        "\n",
        "https://edu.vik.bme.hu/mod/quiz/view.php?id=151358"
      ],
      "metadata": {
        "id": "NCA96eN7EDqM"
      }
    },
    {
      "cell_type": "code",
      "source": [
        "from ortools.sat.python import cp_model\n",
        "import math\n",
        "\n",
        "class SolutionCollector(cp_model.CpSolverSolutionCallback):\n",
        "    def __init__(self, variables):\n",
        "        cp_model.CpSolverSolutionCallback.__init__(self)  # add to model as callback\n",
        "        self.__variables = variables\n",
        "        self.__board_size = int(len(variables) ** 0.5)\n",
        "        self.__solutions = []\n",
        "\n",
        "    def on_solution_callback(self):\n",
        "        solution = [[0] * self.__board_size for _ in range(self.__board_size)]\n",
        "        for i in range(self.__board_size):\n",
        "            for j in range(self.__board_size):\n",
        "                solution[i][j] = self.Value(self.__variables[(i, j)])\n",
        "        self.__solutions.append(solution)\n",
        "\n",
        "    def get_solutions(self):\n",
        "        return self.__solutions\n",
        "\n",
        "\n",
        "def solve_sudoku(board):\n",
        "  size = len(board)\n",
        "  model = create_solver()\n",
        "  variables = create_variables(model, size)\n",
        "\n",
        "  add_row_constraints(model, variables, size)\n",
        "  add_column_constraints(model, variables, size)\n",
        "  add_subgrid_constraints(model, variables, size)\n",
        "  add_filled_cell_constraints(model, variables, size, board)\n",
        "\n",
        "  solver = cp_model.CpSolver()\n",
        "  solution_collector = SolutionCollector(variables)\n",
        "  # status = solver.SearchForAllSolutions(model, solution_collector)\n",
        "  status = solver.Solve(model, solution_collector)\n",
        "  import time\n",
        "  time.sleep(1) # Sleep for 3 seconds\n",
        "\n",
        "  return solution_collector.get_solutions()[0]"
      ],
      "metadata": {
        "id": "B6nQyAfvH9R7"
      },
      "execution_count": null,
      "outputs": []
    },
    {
      "cell_type": "code",
      "source": [],
      "metadata": {
        "id": "O0g4Vs3tIo1O"
      },
      "execution_count": null,
      "outputs": []
    }
  ]
}