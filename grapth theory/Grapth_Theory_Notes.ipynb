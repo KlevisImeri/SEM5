{
 "cells": [
  {
   "cell_type": "markdown",
   "id": "b87e29b3-9bde-4ed8-8c02-ceb86a09c8cc",
   "metadata": {},
   "source": [
    "- www.cs.bme.hu/@heger  \n",
    "- heger@cs.bme.hu\n",
    "- homeworkl -> 100pt max -> 10%\n",
    "- 2 midterms 6 problems 6*10 pts >= 24 pts \n",
    "- 2 retake options (in december) 40%\n",
    "- other 50% oral exmanation\n",
    "- Final grade -> 40-55-70-85\n",
    "- van Lint-Wilson : A corse in Graph theory\n",
    "- Diestel : graph theory\n",
    "- On Hands submission of the homeworks"
   ]
  }
 ],
 "metadata": {
  "kernelspec": {
   "display_name": "Python 3 (ipykernel)",
   "language": "python",
   "name": "python3"
  },
  "language_info": {
   "codemirror_mode": {
    "name": "ipython",
    "version": 3
   },
   "file_extension": ".py",
   "mimetype": "text/x-python",
   "name": "python",
   "nbconvert_exporter": "python",
   "pygments_lexer": "ipython3",
   "version": "3.12.5"
  }
 },
 "nbformat": 4,
 "nbformat_minor": 5
}
