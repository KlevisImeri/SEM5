#imports
import numpy as np
import matplotlib.pyplot as plt
import math
e = math.e
pi = math.pi
inf = 10;

def setup_plot(title, xlabel="Time", ylabel="Value"):
    plt.xlabel(xlabel)
    plt.ylabel(ylabel)
    plt.grid(True)
    plt.title(title)

def plotd(x, y): # plot discreate
    plt.plot(x,y,'o')
    vdashed(x,y)
    
def vdashed(x, y):
    for xi, yi in zip(x, y):
        plt.vlines(xi, 0, yi, colors='darkgray', linestyles='dashed')

def eps(x):
    return np.where(x>=0,1,0)
    
def delta(x):
    return np.where(x==0,1,0)
    
def dirac(x, epsilon=1e-10):
    return np.where(np.abs(x) <= epsilon, inf, 0)











# CT and CV
x = np.linspace(-5, 6, 100)
y = x**2
plt.plot(x, y)
setup_plot("CT and CV")
plt.show()

# CT and DV
x = np.linspace(-5, 6, 100)
y = np.round(x**2, -1)
plt.plot(x, y)
setup_plot("CT and DV")
plt.show()

# DT and CV
x = np.arange(-5, 6, 2)
y = x**2
plt.plot(x, y, 'o')
vdashed(x,y)
setup_plot("DT and CV")
plt.show()

# DT and DV
x = np.arange(-5, 6, 2)
y = np.round(x**2, -1)
plt.plot(x, y, 's')
vdashed(x,y)
setup_plot("DT and DV")
plt.show()








x = np.arange(-5,6)
y = eps(x)
plotd(x,y)
setup_plot("DT Unit Step", "k", r"$\epsilon[k]$")





x = np.arange(-5,6)
y = delta(x)
plotd(x,y)
setup_plot("DT unit pulse")





x = np.arange(-5,6)
y = delta(x-2)
plotd(x,y)
setup_plot("Shifting")
plt.show()

x = np.arange(-5,6)
tau = 2
y = eps(x+tau)-eps(x-tau-1)
z = 2*x;
plotd(x,y*z)
setup_plot("Windowing")
plt.show()


x = np.arange(-3,4)
f = np.where(x>=0,2.0**x,0)
n = np.array([delta(x-i) for i in x])
y = np.sum(f*n, axis=0)
# y = np.where(x>=0, np.sum([2.00 ** i * delta(x - i) for i in x], axis=0), 0)
plotd(x,y)
setup_plot("Convolution")
plt.show()





x = np.arange(-3,4)

y = np.sum([delta(x-i) for i in range(0,4)], axis=0)
plotd(x,y)
setup_plot("Unit step as sum of unit impulses")
plt.show()

y = eps(x)-eps(x-1)
plotd(x,y)
setup_plot("Unit impulse as sum of unit steps")
plt.show()





x = np.arange(-3,4, 0.01)
y = eps(x)
plt.plot(x,y)





t = np.arange(-3,4,0.01);
tau = 2.5;
y = (eps(t)-eps(t-tau))/tau
plt.plot(x,y)
plt.show()
tau = 2;
y = (eps(t)-eps(t-tau))/tau
plt.plot(x,y)
tau = 1;
y = (eps(t)-eps(t-tau))/tau
plt.plot(x,y)
tau = 0.5;
y = (eps(t)-eps(t-tau))/tau
plt.plot(x,y)
tau = 0.2;
y = (eps(t)-eps(t-tau))/tau
plt.plot(x,y)
tau = 0.1;
y = (eps(t)-eps(t-tau))/tau
plt.plot(x,y)





t = np.arange(-3,4,0.01)
y = eps(t-2)
plt.plot(t,y)
setup_plot("Shifting")


t = np.arange(-3,4,0.01)
tau = 1.5;
w = eps(t+tau)-eps(t-tau)
f = 3*t
plt.plot(t,w*f)
setup_plot("Windowing")





t = np.arange(-5,16,0.01)
y = eps(-t)+2*t*(eps(t)-eps(t-10))+e**(-2*t)*eps(t-10)
plt.plot(t,y)
setup_plot("Decompose with unit step")





inf = 5

t = np.arange(-1,1,0.01)
y = (2+e**(-4*t))*eps(t)
dy = -4*e**(-4*t)*eps(t)+3*dirac(t)
x = 2+e**t*eps(t)
plt.plot(t,y)
plt.plot(t,dy)
plt.plot(x,dy)

setup_plot("Decompose with unit step")



