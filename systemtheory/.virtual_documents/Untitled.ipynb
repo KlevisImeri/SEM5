#imports
import numpy as np
import matplotlib.pyplot as plt
import math
e = math.e
pi = math.pi
inf = 10;

def setup_plot(title, xlabel="Time", ylabel="Value"):
    plt.xlabel(xlabel)
    plt.ylabel(ylabel)
    plt.grid(True)
    plt.title(title)

def plotd(x, y): # plot discreate
    plt.plot(x,y,'o')
    vdashed(x,y)
    
def vdashed(x, y):
    for xi, yi in zip(x, y):
        plt.vlines(xi, 0, yi, colors='darkgray', linestyles='dashed')

def eps(x):
    return np.where(x>=0,1,0)
    
def delta(x):
    return np.where(x==0,1,0)
    
def dirac(x, epsilon=1e-10):
    return np.where(np.abs(x) <= epsilon, inf, 0)





x = np.arange(-10.0,10.0)
y = 0*x
for i in x:
    y+=0.6**i*eps(i)*eps(x-i)
plotd(x,eps(x))
plotd(x, y)
plt.show()

y = 0*x
for i in x:
    y+=0.6**i*eps(i)*delta(x-2-i)
plotd(x,y)
plotd(x,np.where(x>=0,0.6**x,0)) #This is the same as y
plt.show()

A = 0.0
y = 0*x
for i in x:
    A+=0.6**i
    y+=eps(i)*eps(x-i)
print(A)
plotd(x,A*y)
plt.show()



